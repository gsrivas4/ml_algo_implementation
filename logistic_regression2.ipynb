{
 "cells": [
  {
   "cell_type": "code",
   "execution_count": 42,
   "metadata": {},
   "outputs": [],
   "source": [
    "\n",
    "import numpy as np"
   ]
  },
  {
   "cell_type": "code",
   "execution_count": 45,
   "metadata": {},
   "outputs": [],
   "source": [
    "np.random.seed(10)"
   ]
  },
  {
   "cell_type": "code",
   "execution_count": 48,
   "metadata": {},
   "outputs": [],
   "source": [
    "X = np.random.rand(10, 3)"
   ]
  },
  {
   "cell_type": "code",
   "execution_count": 49,
   "metadata": {},
   "outputs": [
    {
     "data": {
      "text/plain": [
       "array([[0.8052232 , 0.52164715, 0.90864888],\n",
       "       [0.31923609, 0.09045935, 0.30070006],\n",
       "       [0.11398436, 0.82868133, 0.04689632],\n",
       "       [0.62628715, 0.54758616, 0.819287  ],\n",
       "       [0.19894754, 0.8568503 , 0.35165264],\n",
       "       [0.75464769, 0.29596171, 0.88393648],\n",
       "       [0.32551164, 0.1650159 , 0.39252924],\n",
       "       [0.09346037, 0.82110566, 0.15115202],\n",
       "       [0.38411445, 0.94426071, 0.98762547],\n",
       "       [0.45630455, 0.82612284, 0.25137413]])"
      ]
     },
     "execution_count": 49,
     "metadata": {},
     "output_type": "execute_result"
    }
   ],
   "source": [
    "X"
   ]
  },
  {
   "cell_type": "code",
   "execution_count": 12,
   "metadata": {},
   "outputs": [],
   "source": [
    "Y = np.random.randint(2, size=(10,1))"
   ]
  },
  {
   "cell_type": "code",
   "execution_count": 13,
   "metadata": {},
   "outputs": [
    {
     "data": {
      "text/plain": [
       "array([[1],\n",
       "       [1],\n",
       "       [1],\n",
       "       [0],\n",
       "       [1],\n",
       "       [0],\n",
       "       [1],\n",
       "       [0],\n",
       "       [1],\n",
       "       [0]])"
      ]
     },
     "execution_count": 13,
     "metadata": {},
     "output_type": "execute_result"
    }
   ],
   "source": [
    "Y"
   ]
  },
  {
   "cell_type": "code",
   "execution_count": 15,
   "metadata": {},
   "outputs": [],
   "source": [
    "l = len(Y)"
   ]
  },
  {
   "cell_type": "code",
   "execution_count": 16,
   "metadata": {},
   "outputs": [
    {
     "data": {
      "text/plain": [
       "10"
      ]
     },
     "execution_count": 16,
     "metadata": {},
     "output_type": "execute_result"
    }
   ],
   "source": [
    "l"
   ]
  },
  {
   "cell_type": "code",
   "execution_count": 19,
   "metadata": {},
   "outputs": [],
   "source": [
    "shuffled = np.random.shuffle(Y)"
   ]
  },
  {
   "cell_type": "code",
   "execution_count": 20,
   "metadata": {},
   "outputs": [
    {
     "data": {
      "text/plain": [
       "array([[0],\n",
       "       [1],\n",
       "       [1],\n",
       "       [0],\n",
       "       [1],\n",
       "       [1],\n",
       "       [1],\n",
       "       [0],\n",
       "       [1],\n",
       "       [0]])"
      ]
     },
     "execution_count": 20,
     "metadata": {},
     "output_type": "execute_result"
    }
   ],
   "source": [
    "Y"
   ]
  },
  {
   "cell_type": "code",
   "execution_count": 21,
   "metadata": {},
   "outputs": [],
   "source": [
    "shuffled"
   ]
  },
  {
   "cell_type": "code",
   "execution_count": 22,
   "metadata": {},
   "outputs": [],
   "source": [
    "indices = np.random.permutation(l)"
   ]
  },
  {
   "cell_type": "code",
   "execution_count": 23,
   "metadata": {},
   "outputs": [
    {
     "data": {
      "text/plain": [
       "array([1, 7, 2, 6, 4, 5, 0, 3, 8, 9])"
      ]
     },
     "execution_count": 23,
     "metadata": {},
     "output_type": "execute_result"
    }
   ],
   "source": [
    "indices"
   ]
  },
  {
   "cell_type": "code",
   "execution_count": 24,
   "metadata": {},
   "outputs": [],
   "source": [
    "training_indices = indices[:8]\n",
    "testing_indices = indices[8:]\n",
    "trainx, textx = X[training_indices], X[testing_indices]"
   ]
  },
  {
   "cell_type": "code",
   "execution_count": 25,
   "metadata": {},
   "outputs": [
    {
     "data": {
      "text/plain": [
       "array([[0.5241661 , 0.62469768, 0.91243145],\n",
       "       [0.10097825, 0.66203968, 0.21901235],\n",
       "       [0.02422394, 0.18925103, 0.76605807],\n",
       "       [0.83428049, 0.67726023, 0.2244986 ],\n",
       "       [0.61861948, 0.25042403, 0.36532909],\n",
       "       [0.75774147, 0.5571831 , 0.9577356 ],\n",
       "       [0.89297461, 0.96123647, 0.38630283],\n",
       "       [0.28378281, 0.49691945, 0.5894058 ]])"
      ]
     },
     "execution_count": 25,
     "metadata": {},
     "output_type": "execute_result"
    }
   ],
   "source": [
    "trainx"
   ]
  },
  {
   "cell_type": "code",
   "execution_count": 26,
   "metadata": {},
   "outputs": [],
   "source": [
    "trainy, testy = Y[training_indices], Y[testing_indices]"
   ]
  },
  {
   "cell_type": "code",
   "execution_count": 27,
   "metadata": {},
   "outputs": [
    {
     "data": {
      "text/plain": [
       "(array([[1],\n",
       "        [0],\n",
       "        [1],\n",
       "        [1],\n",
       "        [1],\n",
       "        [1],\n",
       "        [0],\n",
       "        [0]]),\n",
       " array([[1],\n",
       "        [0]]))"
      ]
     },
     "execution_count": 27,
     "metadata": {},
     "output_type": "execute_result"
    }
   ],
   "source": [
    "trainy, testy"
   ]
  },
  {
   "cell_type": "code",
   "execution_count": 28,
   "metadata": {},
   "outputs": [],
   "source": [
    "w = np.random.rand(3,1)\n",
    "b = 0"
   ]
  },
  {
   "cell_type": "code",
   "execution_count": 29,
   "metadata": {},
   "outputs": [
    {
     "data": {
      "text/plain": [
       "(array([[0.90350738],\n",
       "        [0.62521266],\n",
       "        [0.7467688 ]]),\n",
       " 0)"
      ]
     },
     "execution_count": 29,
     "metadata": {},
     "output_type": "execute_result"
    }
   ],
   "source": [
    "w, b"
   ]
  },
  {
   "cell_type": "code",
   "execution_count": 54,
   "metadata": {},
   "outputs": [],
   "source": [
    "xx = np.matmul(trainx, w) + b\n",
    "act = 1. / (1 + np.exp(-1 * (np.matmul(trainx, w) + b)))\n",
    "dr = np.multiply(act, (1-act))\n",
    "der = np.multiply(der, trainx) "
   ]
  },
  {
   "cell_type": "code",
   "execution_count": 55,
   "metadata": {},
   "outputs": [
    {
     "data": {
      "text/plain": [
       "(array([[1.54553217],\n",
       "        [0.66870178],\n",
       "        [0.71227691],\n",
       "        [1.34485879],\n",
       "        [0.9883119 ],\n",
       "        [1.74819001],\n",
       "        [1.69626526],\n",
       "        [1.00723006]]),\n",
       " array([[0.8242675 ],\n",
       "        [0.6612124 ],\n",
       "        [0.67090408],\n",
       "        [0.79328783],\n",
       "        [0.72875436],\n",
       "        [0.85172436],\n",
       "        [0.84504633],\n",
       "        [0.73247772]]),\n",
       " array([[0.14485059],\n",
       "        [0.22401056],\n",
       "        [0.2207918 ],\n",
       "        [0.16398225],\n",
       "        [0.19767144],\n",
       "        [0.12628997],\n",
       "        [0.13094303],\n",
       "        [0.19595411]]),\n",
       " array([[0.11734572, 0.13985185, 0.20426716],\n",
       "        [0.01512616, 0.09917107, 0.03280723],\n",
       "        [0.00380958, 0.02976254, 0.12047404],\n",
       "        [0.18398635, 0.14935821, 0.04950934],\n",
       "        [0.12085414, 0.0489231 , 0.07137107],\n",
       "        [0.1672933 , 0.12301425, 0.21144778],\n",
       "        [0.19834227, 0.21350419, 0.08580331],\n",
       "        [0.05601046, 0.09807742, 0.11633154]]))"
      ]
     },
     "execution_count": 55,
     "metadata": {},
     "output_type": "execute_result"
    }
   ],
   "source": [
    "xx, act, dr, der "
   ]
  },
  {
   "cell_type": "code",
   "execution_count": null,
   "metadata": {},
   "outputs": [],
   "source": [
    "epochs = 8\n",
    "lr = .1\n",
    "for epoch in range(epochs):\n",
    "    # (n,1)\n",
    "    summation = np.matmul(x, w) + b\n",
    "    # (n, 1)\n",
    "    sigmoid = 1. / (1 + np.exp(-1 * (np.matmul(trainx, w) + b)))\n",
    "    # (n, 1)\n",
    "    der = np.multiply(sigmoid *  (1 - sigmoid))\n",
    "    # (n, k)\n",
    "    gradw = np.multiply(der, trainx)\n",
    "    # (1, k)\n",
    "    gradwsum = np.sum(gradw, axis=0)\n",
    "    # (1,1)\n",
    "    gradbsum = np.sum(der)\n",
    "    # (1, k)\n",
    "    w = w - lr * gradwsum "
   ]
  },
  {
   "cell_type": "code",
   "execution_count": null,
   "metadata": {},
   "outputs": [],
   "source": []
  }
 ],
 "metadata": {
  "kernelspec": {
   "display_name": "Python 3 (ipykernel)",
   "language": "python",
   "name": "python3"
  },
  "language_info": {
   "codemirror_mode": {
    "name": "ipython",
    "version": 3
   },
   "file_extension": ".py",
   "mimetype": "text/x-python",
   "name": "python",
   "nbconvert_exporter": "python",
   "pygments_lexer": "ipython3",
   "version": "3.8.1"
  }
 },
 "nbformat": 4,
 "nbformat_minor": 5
}
