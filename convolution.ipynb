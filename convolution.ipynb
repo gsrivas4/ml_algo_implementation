{
 "cells": [
  {
   "cell_type": "code",
   "execution_count": 1,
   "metadata": {},
   "outputs": [],
   "source": [
    "import numpy as np\n",
    "import math"
   ]
  },
  {
   "cell_type": "code",
   "execution_count": 5,
   "metadata": {},
   "outputs": [],
   "source": [
    "img_h, img_w = 10, 10\n",
    "k_h, k_w = 3, 3\n",
    "image = np.random.rand(img_h, img_w)\n",
    "kernel = np.random.rand(k_h, k_w)\n",
    "kernel = np.transpose(kernel)\n",
    "pad = 1\n",
    "newimg_h, newimg_w = img_h + 2*pad, img_w + 2*pad\n",
    "newimage = np.zeros((newimg_h, newimg_w))\n",
    "stride = 2."
   ]
  },
  {
   "cell_type": "code",
   "execution_count": 6,
   "metadata": {},
   "outputs": [
    {
     "name": "stdout",
     "output_type": "stream",
     "text": [
      "1 11 1 11\n"
     ]
    }
   ],
   "source": [
    "print(pad, newimg_h-pad, pad, newimg_w-pad)"
   ]
  },
  {
   "cell_type": "code",
   "execution_count": 7,
   "metadata": {},
   "outputs": [
    {
     "name": "stdout",
     "output_type": "stream",
     "text": [
      "5.0\n",
      "5 5 (12, 12)\n"
     ]
    }
   ],
   "source": [
    "newimage[pad: newimg_h-pad, pad: newimg_w-pad] = image\n",
    "print((img_h + 2*pad - k_h + 1) / stride)\n",
    "out_h, out_w = math.ceil((img_h + 2*pad - k_h + 1) / stride), math.ceil((img_w + 2*pad - k_w + 1) / stride)\n",
    "print(out_h, out_w, newimage.shape)"
   ]
  },
  {
   "cell_type": "code",
   "execution_count": 13,
   "metadata": {},
   "outputs": [],
   "source": [
    "out = np.zeros((out_h, out_w))\n",
    "for y in range(out_h):\n",
    "    for x in range(out_w):\n",
    "        img_center_h, img_center_w = int(y * stride + k_h // 2), int(x * stride + k_w //2)\n",
    "        out[y,x] = np.sum(np.multiply(kernel, newimage[img_center_h-k_h//2: img_center_h+k_h//2 + 1, \\\n",
    "                                            img_center_w-k_w//2: img_center_w+k_w//2 + 1]))"
   ]
  },
  {
   "cell_type": "code",
   "execution_count": 14,
   "metadata": {},
   "outputs": [
    {
     "data": {
      "text/plain": [
       "array([[1.51560885, 1.10051496, 1.92138326, 1.49678615, 1.95374408],\n",
       "       [1.55430566, 2.85143179, 3.99057766, 4.01793951, 3.48706686],\n",
       "       [1.57870517, 2.84822027, 3.08695609, 3.46354   , 2.47377805],\n",
       "       [1.55413203, 2.6185729 , 2.33230031, 2.8062807 , 2.83442812],\n",
       "       [1.96126029, 3.02338791, 4.39356403, 2.5535688 , 2.70219489]])"
      ]
     },
     "execution_count": 14,
     "metadata": {},
     "output_type": "execute_result"
    }
   ],
   "source": [
    "out"
   ]
  },
  {
   "cell_type": "code",
   "execution_count": 15,
   "metadata": {},
   "outputs": [
    {
     "data": {
      "text/plain": [
       "(5, 5)"
      ]
     },
     "execution_count": 15,
     "metadata": {},
     "output_type": "execute_result"
    }
   ],
   "source": [
    "out.shape"
   ]
  },
  {
   "cell_type": "code",
   "execution_count": null,
   "metadata": {},
   "outputs": [],
   "source": []
  }
 ],
 "metadata": {
  "kernelspec": {
   "display_name": "Python 3 (ipykernel)",
   "language": "python",
   "name": "python3"
  },
  "language_info": {
   "codemirror_mode": {
    "name": "ipython",
    "version": 3
   },
   "file_extension": ".py",
   "mimetype": "text/x-python",
   "name": "python",
   "nbconvert_exporter": "python",
   "pygments_lexer": "ipython3",
   "version": "3.8.1"
  }
 },
 "nbformat": 4,
 "nbformat_minor": 4
}
